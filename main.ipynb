{
 "cells": [
  {
   "cell_type": "code",
   "execution_count": 23,
   "metadata": {},
   "outputs": [],
   "source": [
    "import numpy as np\n",
    "import cv2 as cv"
   ]
  },
  {
   "cell_type": "code",
   "execution_count": 24,
   "metadata": {},
   "outputs": [],
   "source": [
    "# Function to read the secret image\n",
    "def read_image(image_name):\n",
    "    image = cv.imread(image_name)\n",
    "    print(\"The shape of the secret image is = \", image.shape)\n",
    "    resized_image = cv.resize(image, (500,500))\n",
    "    cv.imshow(\"Secret Image\",resized_image)\n",
    "    cv.waitKey(0)\n",
    "    return image"
   ]
  },
  {
   "cell_type": "code",
   "execution_count": 25,
   "metadata": {},
   "outputs": [],
   "source": [
    "# Function to generate a random key\n",
    "def generateRandomKey(key_shape):\n",
    "    dealer_key = np.zeros(key_shape).astype(int)\n",
    "    for i in range(0, len(dealer_key)):\n",
    "        for j in range(0, len(dealer_key[i])):\n",
    "            for k in range(0, 3):\n",
    "                dealer_key[i][j][k] = (np.random.randint(0,255))\n",
    "    return dealer_key\n"
   ]
  },
  {
   "cell_type": "code",
   "execution_count": 26,
   "metadata": {},
   "outputs": [],
   "source": [
    "# Function to convert the secret image into encrypted image\n",
    "def convertToEncryptedImage(image, random_key):\n",
    "    print(\"Converting to Encrypted Image...\")\n",
    "    encrypted_image = np.zeros(image.shape).astype(int)\n",
    "    \n",
    "    for i in range(0, len(random_key)):\n",
    "        for j in range(0, len(random_key[i])):\n",
    "            for k in range(0, 3):\n",
    "                encrypted_image[i][j][k] = image[i][j][k]^random_key[i][j][k]\n",
    "    \n",
    "    print(\"The shape of encrypted image = \" ,encrypted_image.shape)\n",
    "    return encrypted_image"
   ]
  },
  {
   "cell_type": "code",
   "execution_count": 28,
   "metadata": {},
   "outputs": [
    {
     "name": "stdout",
     "output_type": "stream",
     "text": [
      "The shape of the secret image is =  (1225, 840, 3)\n",
      "Converting to Encrypted Image...\n",
      "The shape of encrypted image =  (1225, 840, 3)\n"
     ]
    }
   ],
   "source": [
    "N = input('Enter the total number of shares (N) : ')\n",
    "K = input(\"Enter the number of shares required to retreive the seccret image (K) :\")\n",
    "image_name = input(\"Enter the name of the image (with extension)\")\n",
    "image = read_image(image_name)\n",
    "random_key = generateRandomKey(image.shape)\n",
    "encrypted_image = convertToEncryptedImage(image, random_key)"
   ]
  },
  {
   "cell_type": "code",
   "execution_count": null,
   "metadata": {},
   "outputs": [],
   "source": []
  }
 ],
 "metadata": {
  "kernelspec": {
   "display_name": "Python 3.10.7 64-bit",
   "language": "python",
   "name": "python3"
  },
  "language_info": {
   "codemirror_mode": {
    "name": "ipython",
    "version": 3
   },
   "file_extension": ".py",
   "mimetype": "text/x-python",
   "name": "python",
   "nbconvert_exporter": "python",
   "pygments_lexer": "ipython3",
   "version": "3.10.7"
  },
  "orig_nbformat": 4,
  "vscode": {
   "interpreter": {
    "hash": "f60c67c8fc6558068c545c217476333b037001c0c5b1b6ed13d6c32b97b91284"
   }
  }
 },
 "nbformat": 4,
 "nbformat_minor": 2
}
