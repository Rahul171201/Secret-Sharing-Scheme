{
 "cells": [
  {
   "cell_type": "code",
   "execution_count": 1,
   "metadata": {},
   "outputs": [],
   "source": [
    "import numpy as np\n",
    "import cv2 as cv"
   ]
  },
  {
   "cell_type": "code",
   "execution_count": 2,
   "metadata": {},
   "outputs": [],
   "source": [
    "# Function to read the secret image\n",
    "def read_image(image_name):\n",
    "    image = cv.imread(image_name)\n",
    "    print(\"The shape of the secret image is = \", image.shape)\n",
    "    resized_image = cv.resize(image, (500,500))\n",
    "    cv.imshow(\"Secret Image\",resized_image)\n",
    "    cv.waitKey(0)\n",
    "    return image"
   ]
  },
  {
   "cell_type": "code",
   "execution_count": 3,
   "metadata": {},
   "outputs": [],
   "source": [
    "# Function to generate a random key\n",
    "def generateRandomKey(key_shape):\n",
    "    dealer_key = np.zeros(key_shape).astype(int)\n",
    "    for i in range(0, len(dealer_key)):\n",
    "        for j in range(0, len(dealer_key[i])):\n",
    "            for k in range(0, 3):\n",
    "                dealer_key[i][j][k] = (np.random.randint(0,255))\n",
    "    return dealer_key\n"
   ]
  },
  {
   "cell_type": "code",
   "execution_count": 4,
   "metadata": {},
   "outputs": [],
   "source": [
    "# Function to convert the secret image into encrypted image\n",
    "def convertToEncryptedImage(image, random_key):\n",
    "    print(\"Converting to Encrypted Image...\")\n",
    "    encrypted_image = np.zeros(image.shape).astype(int)\n",
    "    \n",
    "    for i in range(0, len(random_key)):\n",
    "        for j in range(0, len(random_key[i])):\n",
    "            for k in range(0, 3):\n",
    "                encrypted_image[i][j][k] = image[i][j][k]^random_key[i][j][k]\n",
    "    \n",
    "    return encrypted_image"
   ]
  },
  {
   "cell_type": "code",
   "execution_count": 5,
   "metadata": {},
   "outputs": [],
   "source": [
    "# Function to generate unique id's for each participant\n",
    "def getUniqueIds(n):\n",
    "    temp_arr = np.zeros(n).astype(int)\n",
    "    for i in range(n):\n",
    "        temp_arr[i] = np.random.randint(0,255)\n",
    "    return temp_arr"
   ]
  },
  {
   "cell_type": "code",
   "execution_count": 6,
   "metadata": {},
   "outputs": [],
   "source": [
    "#Function to get encrypted id's for each participant\n",
    "def getEncryptedIds(unique_ids, n):\n",
    "    temp_arr = []\n",
    "    for i in range(n):\n",
    "        x = np.zeros(8).astype(int)\n",
    "        s = '{0:08b}'.format(unique_ids[i])\n",
    "        msb = s[0:4]\n",
    "        lsb = s[4:8]\n",
    "        for i in range(4):\n",
    "            x[i] = int(msb[i])\n",
    "        for i in range(4):\n",
    "            x[i+4] = int(msb[i])^int(lsb[i])\n",
    "        res = int(\"\".join(str(l) for l in x), 2)\n",
    "        temp_arr.append(res)\n",
    "        \n",
    "    return temp_arr"
   ]
  },
  {
   "cell_type": "code",
   "execution_count": 7,
   "metadata": {},
   "outputs": [],
   "source": [
    "# Left circular rotation of an array str -> x times\n",
    "def leftRotate(bit_8_s, x):\n",
    "    temp_str = []\n",
    "    for i in range(x):\n",
    "        temp_str.append(bit_8_s[i])\n",
    "    check_point = 0\n",
    "    for i in range(0, len(bit_8_s)-x):\n",
    "        bit_8_s[i] = bit_8_s[i+x]\n",
    "        check_point = i\n",
    "    for i in range(0,x):\n",
    "        bit_8_s[check_point+1+i] = temp_str[i]\n",
    "    return bit_8_s"
   ]
  },
  {
   "cell_type": "code",
   "execution_count": 8,
   "metadata": {},
   "outputs": [],
   "source": [
    "#Function to perform left circular shift\n",
    "def leftCircularShift(R1, x):\n",
    "\n",
    "    for i in range(0, len(R1)):\n",
    "        for j in range(0, len(R1[i])):\n",
    "            for k in range(0, 3):\n",
    "                s = '{0:08b}'.format(R1[i][j][k])\n",
    "                temp_s = np.zeros(8).astype(int)\n",
    "                for l in range(8):\n",
    "                    temp_s[l] = int(s[l])\n",
    "                x = x%8\n",
    "                temp_s = leftRotate(temp_s, x)\n",
    "                res = int(\"\".join(str(l) for l in temp_s), 2)\n",
    "                R1[i][j][k] = res\n",
    "    \n",
    "    return R1"
   ]
  },
  {
   "cell_type": "code",
   "execution_count": 9,
   "metadata": {},
   "outputs": [],
   "source": [
    "# Right circular rotation of an array str -> x times\n",
    "def rightRotate(bit_8_s, x):\n",
    "    temp_str = []\n",
    "    for i in range(len(bit_8_s)-x,len(bit_8_s)):\n",
    "        temp_str.append(bit_8_s[i])\n",
    "    for i in range(len(bit_8_s)-1, x-1, -1):\n",
    "        bit_8_s[i] = bit_8_s[i-x]\n",
    "    for i in range(0,x):\n",
    "        bit_8_s[i] = temp_str[i]\n",
    "    return bit_8_s"
   ]
  },
  {
   "cell_type": "code",
   "execution_count": 10,
   "metadata": {},
   "outputs": [],
   "source": [
    "#Function to perform right circular shift\n",
    "def rightCircularShift(R1, x):\n",
    "\n",
    "    for i in range(0, len(R1)):\n",
    "        for j in range(0, len(R1[i])):\n",
    "            for k in range(0, 3):\n",
    "                s = '{0:08b}'.format(R1[i][j][k])\n",
    "                temp_s = np.zeros(8).astype(int)\n",
    "                for l in range(8):\n",
    "                    temp_s[l] = int(s[l])\n",
    "                x = x%8\n",
    "                temp_s = rightRotate(temp_s, x)\n",
    "                res = int(\"\".join(str(l) for l in temp_s), 2)\n",
    "                R1[i][j][k] = res\n",
    "    \n",
    "    return R1"
   ]
  },
  {
   "cell_type": "code",
   "execution_count": 11,
   "metadata": {},
   "outputs": [
    {
     "name": "stdout",
     "output_type": "stream",
     "text": [
      "The total number of shares (N) =  10\n",
      "The number of shares required to retreive the secret image (K) =  5\n",
      "The shape of the secret image is =  (1225, 840, 3)\n",
      "The shape of random key =  (1225, 840, 3)\n",
      "Converting to Encrypted Image...\n",
      "The shape of encrypted image =  (1225, 840, 3)\n",
      "The unique id's of all the N participants are :\n",
      "[229 254 164 158 188 163 177 129  69 201]\n"
     ]
    }
   ],
   "source": [
    "N = input('Enter the total number of shares (N) : ')\n",
    "N = int(N)\n",
    "print(\"The total number of shares (N) = \", N)\n",
    "K = input(\"Enter the number of shares required to retreive the secret image (K) :\")\n",
    "K = int(K)\n",
    "print(\"The number of shares required to retreive the secret image (K) = \", K)\n",
    "image_name = input(\"Enter the name of the image (with extension)\")\n",
    "image = read_image(image_name)\n",
    "random_key = generateRandomKey(image.shape)\n",
    "print(\"The shape of random key = \", random_key.shape)\n",
    "encrypted_image = convertToEncryptedImage(image, random_key)\n",
    "print(\"The shape of encrypted image = \", encrypted_image.shape)\n",
    "unique_ids = getUniqueIds(N)\n",
    "print(\"The unique id's of all the N participants are :\")\n",
    "print(unique_ids)"
   ]
  },
  {
   "cell_type": "code",
   "execution_count": 12,
   "metadata": {},
   "outputs": [
    {
     "name": "stdout",
     "output_type": "stream",
     "text": [
      "(1225, 840, 3) (1225, 840, 3)\n"
     ]
    }
   ],
   "source": [
    "# Function to get authenticated image for each participant (R1)\n",
    "def getR1(encrypted_image, shares):\n",
    "    R1 = np.zeros(encrypted_image.shape).astype(int)\n",
    "    R1_remainder = np.zeros(encrypted_image.shape).astype(int)\n",
    "    \n",
    "    for i in range(0, len(R1)):\n",
    "        for j in range(0, len(R1[i])):\n",
    "            for k in range(0, 3):\n",
    "                R1[i][j][k] = int(encrypted_image[i][j][k]//int(shares))\n",
    "                R1_remainder[i][j][k] = encrypted_image[i][j][k]%int(shares)\n",
    "    \n",
    "    return [R1, R1_remainder]\n",
    "\n",
    "authenticated_image = getR1(encrypted_image, K) # array of R1 and R1_remainder \n",
    "print(authenticated_image[0].shape, authenticated_image[1].shape)"
   ]
  },
  {
   "cell_type": "code",
   "execution_count": 13,
   "metadata": {},
   "outputs": [
    {
     "name": "stdout",
     "output_type": "stream",
     "text": [
      "The encrypted ids are : \n",
      "[235, 241, 174, 151, 183, 169, 186, 137, 65, 197]\n"
     ]
    }
   ],
   "source": [
    "encrypted_ids = getEncryptedIds(unique_ids, N)\n",
    "print(\"The encrypted ids are : \")\n",
    "print(encrypted_ids)"
   ]
  },
  {
   "cell_type": "code",
   "execution_count": 14,
   "metadata": {},
   "outputs": [],
   "source": [
    "#generating n shares\n",
    "def generate_N_shares(R1, n, encrypted_ids):\n",
    "    S = []\n",
    "    for i in range(0,n):\n",
    "        temp = R1\n",
    "        temp_S = leftCircularShift(R1, encrypted_ids[i])\n",
    "        S.append(temp_S)\n",
    "    return S\n"
   ]
  },
  {
   "cell_type": "code",
   "execution_count": 15,
   "metadata": {},
   "outputs": [],
   "source": [
    "\n",
    "shares = generate_N_shares(authenticated_image[0], N, encrypted_ids)\n"
   ]
  },
  {
   "cell_type": "code",
   "execution_count": 16,
   "metadata": {},
   "outputs": [
    {
     "name": "stdout",
     "output_type": "stream",
     "text": [
      "10 <class 'str'>\n"
     ]
    }
   ],
   "source": [
    "# saving first k shares\n",
    "def saveKshares(S, k):\n",
    "    for i in range(0, k):\n",
    "        filename = \"share_\"+str(i+1)+\".png\"\n",
    "        cv.imwrite(filename, S[i])\n",
    "saveKshares(shares, K)"
   ]
  }
 ],
 "metadata": {
  "kernelspec": {
   "display_name": "Python 3.10.7 64-bit",
   "language": "python",
   "name": "python3"
  },
  "language_info": {
   "codemirror_mode": {
    "name": "ipython",
    "version": 3
   },
   "file_extension": ".py",
   "mimetype": "text/x-python",
   "name": "python",
   "nbconvert_exporter": "python",
   "pygments_lexer": "ipython3",
   "version": "3.10.7"
  },
  "orig_nbformat": 4,
  "vscode": {
   "interpreter": {
    "hash": "f60c67c8fc6558068c545c217476333b037001c0c5b1b6ed13d6c32b97b91284"
   }
  }
 },
 "nbformat": 4,
 "nbformat_minor": 2
}
