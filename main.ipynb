{
 "cells": [
  {
   "cell_type": "code",
   "execution_count": 1,
   "metadata": {},
   "outputs": [],
   "source": [
    "import numpy as np\n",
    "import cv2 as cv"
   ]
  },
  {
   "cell_type": "code",
   "execution_count": 2,
   "metadata": {},
   "outputs": [
    {
     "name": "stdout",
     "output_type": "stream",
     "text": [
      "The total number of shares (N) =  7\n",
      "The number of shares required to retreive the secret image (K) =  3\n"
     ]
    }
   ],
   "source": [
    "N = input('Enter the total number of shares (N) : ')\n",
    "N = int(N)\n",
    "print(\"The total number of shares (N) = \", N)\n",
    "K = input(\"Enter the number of shares required to retreive the secret image (K) :\")\n",
    "K = int(K)\n",
    "print(\"The number of shares required to retreive the secret image (K) = \", K)"
   ]
  },
  {
   "cell_type": "code",
   "execution_count": 3,
   "metadata": {},
   "outputs": [],
   "source": [
    "# Function to read the secret image\n",
    "def read_image(img_name):\n",
    "    img = cv.imread(img_name)\n",
    "    print(\"The shape of the secret image is = \", img.shape)\n",
    "    resized_img = cv.resize(img, (500,500))\n",
    "    cv.imshow(\"Secret Image\",resized_img)\n",
    "    cv.waitKey(0)\n",
    "    return img\n"
   ]
  },
  {
   "cell_type": "code",
   "execution_count": 4,
   "metadata": {},
   "outputs": [
    {
     "name": "stdout",
     "output_type": "stream",
     "text": [
      "The shape of the secret image is =  (1225, 840, 3)\n"
     ]
    }
   ],
   "source": [
    "image_name = input(\"Enter the name of the image (with extension)\")\n",
    "image = read_image(image_name)"
   ]
  },
  {
   "cell_type": "code",
   "execution_count": 5,
   "metadata": {},
   "outputs": [],
   "source": [
    "# Function to generate a random key\n",
    "def generateRandomKey(key_shape):\n",
    "    dealer_key = np.zeros(key_shape).astype(int)\n",
    "    for i in range(0, len(dealer_key)):\n",
    "        for j in range(0, len(dealer_key[i])):\n",
    "            for k in range(0, 3):\n",
    "                dealer_key[i][j][k] = (np.random.randint(0,255))\n",
    "    return dealer_key"
   ]
  },
  {
   "cell_type": "code",
   "execution_count": 6,
   "metadata": {},
   "outputs": [
    {
     "name": "stdout",
     "output_type": "stream",
     "text": [
      "The shape of random key =  (1225, 840, 3)\n"
     ]
    }
   ],
   "source": [
    "random_key = generateRandomKey(image.shape)\n",
    "print(\"The shape of random key = \", random_key.shape)"
   ]
  },
  {
   "cell_type": "code",
   "execution_count": 7,
   "metadata": {},
   "outputs": [],
   "source": [
    "# Function to convert the secret image into encrypted image\n",
    "def convertToEncryptedImage(im, rand_key):\n",
    "    print(\"Converting to Encrypted Image...\")\n",
    "    encrypted_im = np.zeros(im.shape).astype(int)\n",
    "    \n",
    "    for i in range(0, len(rand_key)):\n",
    "        for j in range(0, len(rand_key[i])):\n",
    "            for k in range(0, 3):\n",
    "                encrypted_im[i][j][k] = im[i][j][k]^rand_key[i][j][k]\n",
    "    \n",
    "    return encrypted_im"
   ]
  },
  {
   "cell_type": "code",
   "execution_count": 8,
   "metadata": {},
   "outputs": [
    {
     "name": "stdout",
     "output_type": "stream",
     "text": [
      "Converting to Encrypted Image...\n",
      "The shape of encrypted image =  (1225, 840, 3)\n"
     ]
    }
   ],
   "source": [
    "encrypted_image = convertToEncryptedImage(image, random_key)\n",
    "print(\"The shape of encrypted image = \", encrypted_image.shape)"
   ]
  },
  {
   "cell_type": "code",
   "execution_count": 9,
   "metadata": {},
   "outputs": [],
   "source": [
    "# Function to generate unique id's for each participant\n",
    "def getUniqueIds(n):\n",
    "    temp_arr = np.zeros(n).astype(int)\n",
    "    for i in range(n):\n",
    "        temp_arr[i] = np.random.randint(0,255)\n",
    "    return temp_arr"
   ]
  },
  {
   "cell_type": "code",
   "execution_count": 10,
   "metadata": {},
   "outputs": [
    {
     "name": "stdout",
     "output_type": "stream",
     "text": [
      "The unique id's of all the N participants are :\n",
      "[115  98  74 178 133 214 215]\n"
     ]
    }
   ],
   "source": [
    "unique_ids = getUniqueIds(N)\n",
    "print(\"The unique id's of all the N participants are :\")\n",
    "print(unique_ids)"
   ]
  },
  {
   "cell_type": "code",
   "execution_count": 11,
   "metadata": {},
   "outputs": [],
   "source": [
    "#Function to get encrypted id's for each participant\n",
    "def getEncryptedIds(unique_ids, n):\n",
    "    temp_arr = []\n",
    "    for i in range(n):\n",
    "        x = np.zeros(8).astype(int)\n",
    "        s = '{0:08b}'.format(unique_ids[i])\n",
    "        msb = s[0:4]\n",
    "        lsb = s[4:8]\n",
    "        for i in range(4):\n",
    "            x[i] = int(msb[i])\n",
    "        for i in range(4):\n",
    "            x[i+4] = int(msb[i])^int(lsb[i])\n",
    "        res = int(\"\".join(str(l) for l in x), 2)\n",
    "        temp_arr.append(res)\n",
    "        \n",
    "    return temp_arr"
   ]
  },
  {
   "cell_type": "code",
   "execution_count": 12,
   "metadata": {},
   "outputs": [
    {
     "name": "stdout",
     "output_type": "stream",
     "text": [
      "The encrypted ids are : \n",
      "[116, 100, 78, 185, 141, 219, 218]\n"
     ]
    }
   ],
   "source": [
    "encrypted_ids = getEncryptedIds(unique_ids, N)\n",
    "print(\"The encrypted ids are : \")\n",
    "print(encrypted_ids)\n",
    "\n"
   ]
  },
  {
   "cell_type": "code",
   "execution_count": 13,
   "metadata": {},
   "outputs": [],
   "source": [
    "# Function to get authenticated image for each participant (R1)\n",
    "def getR1(en_image, sh):\n",
    "    R1 = np.zeros(en_image.shape).astype(int)\n",
    "    R1_remainder = np.zeros(en_image.shape).astype(int)\n",
    "    \n",
    "    for i in range(0, len(R1)):\n",
    "        for j in range(0, len(R1[i])):\n",
    "            for k in range(0, 3):\n",
    "                R1[i][j][k] = int(en_image[i][j][k]//int(sh))\n",
    "                R1_remainder[i][j][k] = en_image[i][j][k]%int(sh)\n",
    "    \n",
    "    return [R1, R1_remainder]"
   ]
  },
  {
   "cell_type": "code",
   "execution_count": 14,
   "metadata": {},
   "outputs": [
    {
     "name": "stdout",
     "output_type": "stream",
     "text": [
      "(1225, 840, 3) (1225, 840, 3)\n"
     ]
    }
   ],
   "source": [
    "authenticated_image = getR1(encrypted_image, K) # array of R1 and R1_remainder \n",
    "print(authenticated_image[0].shape, authenticated_image[1].shape)"
   ]
  },
  {
   "cell_type": "code",
   "execution_count": 15,
   "metadata": {},
   "outputs": [],
   "source": [
    "# Left circular rotation of an array str -> xa times\n",
    "def leftRotate(bit_8_s, xa):\n",
    "    temp_str = []\n",
    "    for i in range(xa):\n",
    "        temp_str.append(bit_8_s[i])\n",
    "    check_point = 0\n",
    "    for i in range(0, len(bit_8_s)-xa):\n",
    "        bit_8_s[i] = bit_8_s[i+xa]\n",
    "        check_point = i\n",
    "    for i in range(0,xa):\n",
    "        bit_8_s[check_point+1+i] = temp_str[i]\n",
    "    return bit_8_s"
   ]
  },
  {
   "cell_type": "code",
   "execution_count": 16,
   "metadata": {},
   "outputs": [],
   "source": [
    "#Function to perform left circular shift\n",
    "def leftCircularShift(R_x, e_x):\n",
    "    temporary_R1 = np.zeros(R_x.shape).astype(int)\n",
    "    for i in range(0, len(temporary_R1)):\n",
    "        for j in range(0, len(temporary_R1[i])):\n",
    "            for k in range(0, 3):\n",
    "                s = '{0:08b}'.format(R_x[i][j][k])\n",
    "                tempo = np.zeros(8).astype(int)\n",
    "                for l in range(8):\n",
    "                    tempo[l] = int(s[l])\n",
    "                e_enx = e_x%8\n",
    "                tempo = leftRotate(tempo, e_enx)\n",
    "                res = int(\"\".join(str(l) for l in tempo), 2)\n",
    "                temporary_R1[i][j][k] = res\n",
    "    return temporary_R1\n"
   ]
  },
  {
   "cell_type": "code",
   "execution_count": 17,
   "metadata": {},
   "outputs": [],
   "source": [
    "#generating n shares\n",
    "def generate_N_shares(Rg, n, n_ids):\n",
    "    S = []\n",
    "    for i in range(0,n):\n",
    "        temp_g = Rg\n",
    "        tempo_S = leftCircularShift(temp_g, n_ids[i])\n",
    "        S.append(tempo_S)\n",
    "    return S"
   ]
  },
  {
   "cell_type": "code",
   "execution_count": 18,
   "metadata": {},
   "outputs": [],
   "source": [
    "h1 = authenticated_image[0]\n",
    "shares = generate_N_shares(h1, N, encrypted_ids)"
   ]
  },
  {
   "cell_type": "code",
   "execution_count": 19,
   "metadata": {},
   "outputs": [],
   "source": [
    "# saving first k shares\n",
    "def saveKshares(S, k):\n",
    "    for i in range(0, k):\n",
    "        filename = \"share_\"+str(i+1)+\".png\"\n",
    "        cv.imwrite(filename, S[i])\n",
    "saveKshares(shares, K)\n"
   ]
  },
  {
   "cell_type": "code",
   "execution_count": 20,
   "metadata": {},
   "outputs": [],
   "source": [
    "# Function to encode the 8 bit encrypted ids into each of the corresponding shares\n",
    "def encode_shares(S, n, encrypted_ids):\n",
    "\n",
    "    for l in range(0,n):\n",
    "        encrypted_string = '{0:08b}'.format(encrypted_ids[l])\n",
    "        count_bits = 0\n",
    "        temp_encoded = np.zeros(S[l].shape).astype(int)\n",
    "        for i in range(0, len(S[l])):\n",
    "            for j in range(0, len(S[l][i])):\n",
    "                for k in range(0, 3):\n",
    "                    temp_string = '{0:08b}'.format(S[l][i][j][k])\n",
    "                    temp_array = np.zeros(8).astype(int)\n",
    "                    for b in range(8):\n",
    "                        temp_array[b] = int(temp_string[b])\n",
    "                    temp_array[7] = encrypted_string[count_bits]\n",
    "                    res = int(\"\".join(str(l) for l in temp_string), 2)\n",
    "                    temp_encoded[i][j][k] = res\n",
    "                    count_bits+=1\n",
    "                    if(count_bits>=8):\n",
    "                        break\n",
    "                if(count_bits>=8):\n",
    "                        break\n",
    "            if(count_bits>=8):\n",
    "                        break\n",
    "    return S"
   ]
  },
  {
   "cell_type": "code",
   "execution_count": 21,
   "metadata": {},
   "outputs": [],
   "source": [
    "encoded_shares = encode_shares(shares, N, encrypted_ids)"
   ]
  },
  {
   "cell_type": "code",
   "execution_count": 22,
   "metadata": {},
   "outputs": [],
   "source": [
    "# Right circular rotation of an array str -> xa times\n",
    "def rightRotate(bit_8_s, xa):\n",
    "    temp_str = []\n",
    "    for i in range(len(bit_8_s)-xa,len(bit_8_s)):\n",
    "        temp_str.append(bit_8_s[i])\n",
    "    for i in range(len(bit_8_s)-1, xa-1, -1):\n",
    "        bit_8_s[i] = bit_8_s[i-xa]\n",
    "    for i in range(0,xa):\n",
    "        bit_8_s[i] = temp_str[i]\n",
    "    return bit_8_s"
   ]
  },
  {
   "cell_type": "code",
   "execution_count": 23,
   "metadata": {},
   "outputs": [],
   "source": [
    "#Function to perform right circular shift\n",
    "def rightCircularShift(R_x, e_x):\n",
    "    tempo_R_x = np.zeros(R_x.shape).astype(int)\n",
    "    for i in range(0, len(tempo_R_x)):\n",
    "        for j in range(0, len(tempo_R_x[i])):\n",
    "            for k in range(0, 3):\n",
    "                s = '{0:08b}'.format(R_x[i][j][k])\n",
    "                tempo = np.zeros(8).astype(int)\n",
    "                for l in range(8):\n",
    "                    tempo[l] = int(s[l])\n",
    "                e_x_r = e_x%8\n",
    "                tempo_r = rightRotate(tempo, e_x_r)\n",
    "                if(i==0 and j==0 and k==0):\n",
    "                  print(tempo_r)\n",
    "                res = int(\"\".join(str(l) for l in tempo_r), 2)\n",
    "                tempo_R_x[i][j][k] = res\n",
    "    \n",
    "    return tempo_R_x"
   ]
  },
  {
   "cell_type": "code",
   "execution_count": 24,
   "metadata": {},
   "outputs": [],
   "source": [
    "\n",
    "# Retreiving K shares\n",
    "def retreive_k_shares(S, k, encrypted_ids):\n",
    "    R = []\n",
    "    for i in range(0,k):\n",
    "        temp = S[i]\n",
    "        temp_S = rightCircularShift(temp, encrypted_ids[i])\n",
    "        R.append(temp_S)\n",
    "    return R"
   ]
  },
  {
   "cell_type": "code",
   "execution_count": 25,
   "metadata": {},
   "outputs": [
    {
     "name": "stdout",
     "output_type": "stream",
     "text": [
      "[0 0 1 0 0 1 0 1]\n",
      "[0 0 1 0 0 1 0 1]\n",
      "[0 0 1 0 0 1 0 1]\n"
     ]
    }
   ],
   "source": [
    "retreived_shares = retreive_k_shares(encoded_shares, K, encrypted_ids)"
   ]
  },
  {
   "cell_type": "code",
   "execution_count": 26,
   "metadata": {},
   "outputs": [],
   "source": [
    "# Retreive Secret Image\n",
    "def getSecretImage(retreived_shares, k, r_shape, rem, key, org_img, org_share, final_image):\n",
    "    ret = np.zeros(r_shape).astype(int)\n",
    "    for l in range(k):\n",
    "        for i in range(len(retreived_shares[l])):\n",
    "            for j in range(len(retreived_shares[l][i])):\n",
    "                for t in range(3):\n",
    "                    ret[i][j][t] += retreived_shares[l][i][j][t]\n",
    "    \n",
    "    for i in range(len(ret)):\n",
    "            for j in range(len(ret[i])):\n",
    "                for t in range(3):\n",
    "                    ret[i][j][t] = ret[i][j][t] + rem[i][j][t]\n",
    "    \n",
    "    secret_image = np.zeros(r_shape).astype(int)\n",
    "    for i in range(len(ret)):\n",
    "            for j in range(len(ret[i])):\n",
    "                for t in range(3):           \n",
    "                    temp_xor = ret[i][j][t]^key[i][j][t]\n",
    "                    secret_image[i][j][t] = temp_xor\n",
    "    \n",
    "    fileName = \"retreived_image.png\"\n",
    "    cv.imwrite(fileName, secret_image)"
   ]
  },
  {
   "cell_type": "code",
   "execution_count": 27,
   "metadata": {},
   "outputs": [],
   "source": [
    "getSecretImage(retreived_shares, K, image.shape, authenticated_image[1], random_key, encrypted_image, authenticated_image[0], image)"
   ]
  }
 ],
 "metadata": {
  "kernelspec": {
   "display_name": "Python 3.10.7 64-bit",
   "language": "python",
   "name": "python3"
  },
  "language_info": {
   "codemirror_mode": {
    "name": "ipython",
    "version": 3
   },
   "file_extension": ".py",
   "mimetype": "text/x-python",
   "name": "python",
   "nbconvert_exporter": "python",
   "pygments_lexer": "ipython3",
   "version": "3.10.7"
  },
  "orig_nbformat": 4,
  "vscode": {
   "interpreter": {
    "hash": "f60c67c8fc6558068c545c217476333b037001c0c5b1b6ed13d6c32b97b91284"
   }
  }
 },
 "nbformat": 4,
 "nbformat_minor": 2
}
