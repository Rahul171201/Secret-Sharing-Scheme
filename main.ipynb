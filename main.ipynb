{
 "cells": [
  {
   "cell_type": "code",
   "execution_count": 1,
   "metadata": {},
   "outputs": [],
   "source": [
    "import numpy as np\n",
    "import cv2 as cv"
   ]
  },
  {
   "cell_type": "code",
   "execution_count": 2,
   "metadata": {},
   "outputs": [
    {
     "name": "stdout",
     "output_type": "stream",
     "text": [
      "The shape of the image is =  (1225, 840, 3)\n"
     ]
    }
   ],
   "source": [
    "def read_image():\n",
    "    image_name = input(\"Enter the name of the file (with extension)\")\n",
    "    image = cv.imread(image_name)\n",
    "    print(\"The shape of the image is = \", image.shape)\n",
    "    resized_image = cv.resize(image, (500,500))\n",
    "    cv.imshow(\"Secret Image\",resized_image)\n",
    "    cv.waitKey(0)\n",
    "\n",
    "read_image()"
   ]
  },
  {
   "cell_type": "code",
   "execution_count": 3,
   "metadata": {},
   "outputs": [],
   "source": [
    "# Function to convert the secret image into encrypted image\n",
    "def convertToEncryptedImage(image):\n",
    "    print(\"Converting to Encrypted Image...\")\n",
    "    encrypted_image = np.zeros(image.shape)\n",
    "    print(encrypted_image.shape)"
   ]
  }
 ],
 "metadata": {
  "kernelspec": {
   "display_name": "Python 3.10.7 64-bit",
   "language": "python",
   "name": "python3"
  },
  "language_info": {
   "codemirror_mode": {
    "name": "ipython",
    "version": 3
   },
   "file_extension": ".py",
   "mimetype": "text/x-python",
   "name": "python",
   "nbconvert_exporter": "python",
   "pygments_lexer": "ipython3",
   "version": "3.10.7"
  },
  "orig_nbformat": 4,
  "vscode": {
   "interpreter": {
    "hash": "f60c67c8fc6558068c545c217476333b037001c0c5b1b6ed13d6c32b97b91284"
   }
  }
 },
 "nbformat": 4,
 "nbformat_minor": 2
}
