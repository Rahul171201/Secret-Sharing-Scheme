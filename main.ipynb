{
 "cells": [
  {
   "cell_type": "code",
   "execution_count": 7,
   "metadata": {},
   "outputs": [],
   "source": [
    "import numpy as np\n",
    "import cv2 as cv"
   ]
  },
  {
   "cell_type": "code",
   "execution_count": 8,
   "metadata": {},
   "outputs": [],
   "source": [
    "# Function to read the secret image\n",
    "def read_image(image_name):\n",
    "    image = cv.imread(image_name)\n",
    "    print(\"The shape of the secret image is = \", image.shape)\n",
    "    resized_image = cv.resize(image, (500,500))\n",
    "    cv.imshow(\"Secret Image\",resized_image)\n",
    "    cv.waitKey(0)\n",
    "    return image"
   ]
  },
  {
   "cell_type": "code",
   "execution_count": 9,
   "metadata": {},
   "outputs": [],
   "source": [
    "# Function to generate a random key\n",
    "def generateRandomKey(key_shape):\n",
    "    dealer_key = np.zeros(key_shape).astype(int)\n",
    "    for i in range(0, len(dealer_key)):\n",
    "        for j in range(0, len(dealer_key[i])):\n",
    "            for k in range(0, 3):\n",
    "                dealer_key[i][j][k] = (np.random.randint(0,255))\n",
    "    return dealer_key\n"
   ]
  },
  {
   "cell_type": "code",
   "execution_count": 10,
   "metadata": {},
   "outputs": [],
   "source": [
    "# Function to convert the secret image into encrypted image\n",
    "def convertToEncryptedImage(image, random_key):\n",
    "    print(\"Converting to Encrypted Image...\")\n",
    "    encrypted_image = np.zeros(image.shape).astype(int)\n",
    "    \n",
    "    for i in range(0, len(random_key)):\n",
    "        for j in range(0, len(random_key[i])):\n",
    "            for k in range(0, 3):\n",
    "                encrypted_image[i][j][k] = image[i][j][k]^random_key[i][j][k]\n",
    "    \n",
    "    return encrypted_image"
   ]
  },
  {
   "cell_type": "code",
   "execution_count": 11,
   "metadata": {},
   "outputs": [],
   "source": [
    "# Function to generate unique id's for each participant\n",
    "def getUniqueIds(n):\n",
    "    temp_arr = np.zeros(n).astype(int)\n",
    "    for i in range(n):\n",
    "        temp_arr[i] = np.random.randint(0,255)\n",
    "    return temp_arr"
   ]
  },
  {
   "cell_type": "code",
   "execution_count": 12,
   "metadata": {},
   "outputs": [
    {
     "name": "stdout",
     "output_type": "stream",
     "text": [
      "The total number of shares (N) =  12\n",
      "The number of shares required to retreive the secret image (K) =  7\n",
      "The shape of the secret image is =  (1225, 840, 3)\n",
      "The shape of random key =  (1225, 840, 3)\n",
      "Converting to Encrypted Image...\n",
      "The shape of encrypted image =  (1225, 840, 3)\n"
     ]
    },
    {
     "ename": "TypeError",
     "evalue": "'str' object cannot be interpreted as an integer",
     "output_type": "error",
     "traceback": [
      "\u001b[1;31m---------------------------------------------------------------------------\u001b[0m",
      "\u001b[1;31mTypeError\u001b[0m                                 Traceback (most recent call last)",
      "Cell \u001b[1;32mIn [12], line 11\u001b[0m\n\u001b[0;32m      9\u001b[0m encrypted_image \u001b[39m=\u001b[39m convertToEncryptedImage(image, random_key)\n\u001b[0;32m     10\u001b[0m \u001b[39mprint\u001b[39m(\u001b[39m\"\u001b[39m\u001b[39mThe shape of encrypted image = \u001b[39m\u001b[39m\"\u001b[39m, encrypted_image\u001b[39m.\u001b[39mshape)\n\u001b[1;32m---> 11\u001b[0m unique_ids \u001b[39m=\u001b[39m getUniqueIds(N)\n\u001b[0;32m     12\u001b[0m \u001b[39mprint\u001b[39m(\u001b[39m\"\u001b[39m\u001b[39mThe unique id\u001b[39m\u001b[39m'\u001b[39m\u001b[39ms of all the N participants are :\u001b[39m\u001b[39m\"\u001b[39m)\n\u001b[0;32m     13\u001b[0m \u001b[39mprint\u001b[39m(unique_ids)\n",
      "Cell \u001b[1;32mIn [11], line 3\u001b[0m, in \u001b[0;36mgetUniqueIds\u001b[1;34m(n)\u001b[0m\n\u001b[0;32m      2\u001b[0m \u001b[39mdef\u001b[39;00m \u001b[39mgetUniqueIds\u001b[39m(n):\n\u001b[1;32m----> 3\u001b[0m     temp_arr \u001b[39m=\u001b[39m np\u001b[39m.\u001b[39;49mzeros(n)\u001b[39m.\u001b[39mastype(\u001b[39mint\u001b[39m)\n\u001b[0;32m      4\u001b[0m     \u001b[39mfor\u001b[39;00m i \u001b[39min\u001b[39;00m \u001b[39mrange\u001b[39m(n):\n\u001b[0;32m      5\u001b[0m         temp_arr[i] \u001b[39m=\u001b[39m np\u001b[39m.\u001b[39mrandom\u001b[39m.\u001b[39mrandint(\u001b[39m0\u001b[39m,\u001b[39m255\u001b[39m)\n",
      "\u001b[1;31mTypeError\u001b[0m: 'str' object cannot be interpreted as an integer"
     ]
    }
   ],
   "source": [
    "N = input('Enter the total number of shares (N) : ')\n",
    "N = int(N)\n",
    "print(\"The total number of shares (N) = \", N)\n",
    "K = input(\"Enter the number of shares required to retreive the secret image (K) :\")\n",
    "K = int(K)\n",
    "print(\"The number of shares required to retreive the secret image (K) = \", K)\n",
    "image_name = input(\"Enter the name of the image (with extension)\")\n",
    "image = read_image(image_name)\n",
    "random_key = generateRandomKey(image.shape)\n",
    "print(\"The shape of random key = \", random_key.shape)\n",
    "encrypted_image = convertToEncryptedImage(image, random_key)\n",
    "print(\"The shape of encrypted image = \", encrypted_image.shape)\n",
    "unique_ids = getUniqueIds(N)\n",
    "print(\"The unique id's of all the N participants are :\")\n",
    "print(unique_ids)"
   ]
  },
  {
   "cell_type": "code",
   "execution_count": null,
   "metadata": {},
   "outputs": [],
   "source": [
    "# Function to get authenticated image for each participant (R1)\n",
    "def getR1(encrypted_image, shares):\n",
    "    R1 = np.zeros(encrypted_image.shape).astype(int)\n",
    "    R1_remainder = np.zeros(encrypted_image.shape).astype(int)\n",
    "    \n",
    "    for i in range(0, len(R1)):\n",
    "        for j in range(0, len(R1[i])):\n",
    "            for k in range(0, 3):\n",
    "                R1[i][j][k] = int(encrypted_image[i][j][k]//int(shares))\n",
    "                R1_remainder[i][j][k] = encrypted_image[i][j][k]%int(shares)\n",
    "    \n",
    "    return [R1, R1_remainder]\n",
    "\n",
    "authenticated_image = getR1(encrypted_image, K) # array of R1 and R1_remainder \n",
    "print(authenticated_image[0].shape, authenticated_image[1].shape)"
   ]
  }
 ],
 "metadata": {
  "kernelspec": {
   "display_name": "Python 3.10.7 64-bit",
   "language": "python",
   "name": "python3"
  },
  "language_info": {
   "codemirror_mode": {
    "name": "ipython",
    "version": 3
   },
   "file_extension": ".py",
   "mimetype": "text/x-python",
   "name": "python",
   "nbconvert_exporter": "python",
   "pygments_lexer": "ipython3",
   "version": "3.10.7"
  },
  "orig_nbformat": 4,
  "vscode": {
   "interpreter": {
    "hash": "f60c67c8fc6558068c545c217476333b037001c0c5b1b6ed13d6c32b97b91284"
   }
  }
 },
 "nbformat": 4,
 "nbformat_minor": 2
}
